{
 "cells": [
  {
   "cell_type": "code",
   "execution_count": 1,
   "id": "a47ce114",
   "metadata": {},
   "outputs": [],
   "source": [
    "import pandas as pd\n",
    "import numpy as np"
   ]
  },
  {
   "cell_type": "code",
   "execution_count": 2,
   "id": "c31ca2f5",
   "metadata": {},
   "outputs": [],
   "source": [
    "df = pd.read_csv('House power consumption cleaned data')"
   ]
  },
  {
   "cell_type": "code",
   "execution_count": 3,
   "id": "faec2b4d",
   "metadata": {},
   "outputs": [],
   "source": [
    "df.drop(['Unnamed: 0'],axis=1,inplace=True)"
   ]
  },
  {
   "cell_type": "code",
   "execution_count": 4,
   "id": "4751d896",
   "metadata": {},
   "outputs": [
    {
     "data": {
      "text/html": [
       "<div>\n",
       "<style scoped>\n",
       "    .dataframe tbody tr th:only-of-type {\n",
       "        vertical-align: middle;\n",
       "    }\n",
       "\n",
       "    .dataframe tbody tr th {\n",
       "        vertical-align: top;\n",
       "    }\n",
       "\n",
       "    .dataframe thead th {\n",
       "        text-align: right;\n",
       "    }\n",
       "</style>\n",
       "<table border=\"1\" class=\"dataframe\">\n",
       "  <thead>\n",
       "    <tr style=\"text-align: right;\">\n",
       "      <th></th>\n",
       "      <th>Global_active_power</th>\n",
       "      <th>Global_reactive_power</th>\n",
       "      <th>Voltage</th>\n",
       "      <th>Sub_metering</th>\n",
       "      <th>power_consumption</th>\n",
       "    </tr>\n",
       "  </thead>\n",
       "  <tbody>\n",
       "    <tr>\n",
       "      <th>0</th>\n",
       "      <td>50.852</td>\n",
       "      <td>2.812</td>\n",
       "      <td>6474.97</td>\n",
       "      <td>146.0</td>\n",
       "      <td>694.125000</td>\n",
       "    </tr>\n",
       "    <tr>\n",
       "      <th>1</th>\n",
       "      <td>48.726</td>\n",
       "      <td>3.576</td>\n",
       "      <td>8422.20</td>\n",
       "      <td>400.0</td>\n",
       "      <td>412.100000</td>\n",
       "    </tr>\n",
       "    <tr>\n",
       "      <th>2</th>\n",
       "      <td>19.566</td>\n",
       "      <td>2.928</td>\n",
       "      <td>10840.13</td>\n",
       "      <td>129.0</td>\n",
       "      <td>197.100000</td>\n",
       "    </tr>\n",
       "    <tr>\n",
       "      <th>3</th>\n",
       "      <td>66.596</td>\n",
       "      <td>4.302</td>\n",
       "      <td>7181.28</td>\n",
       "      <td>714.0</td>\n",
       "      <td>383.933333</td>\n",
       "    </tr>\n",
       "    <tr>\n",
       "      <th>4</th>\n",
       "      <td>29.112</td>\n",
       "      <td>5.026</td>\n",
       "      <td>8703.04</td>\n",
       "      <td>192.0</td>\n",
       "      <td>293.200000</td>\n",
       "    </tr>\n",
       "  </tbody>\n",
       "</table>\n",
       "</div>"
      ],
      "text/plain": [
       "   Global_active_power  Global_reactive_power   Voltage  Sub_metering  \\\n",
       "0               50.852                  2.812   6474.97         146.0   \n",
       "1               48.726                  3.576   8422.20         400.0   \n",
       "2               19.566                  2.928  10840.13         129.0   \n",
       "3               66.596                  4.302   7181.28         714.0   \n",
       "4               29.112                  5.026   8703.04         192.0   \n",
       "\n",
       "   power_consumption  \n",
       "0         694.125000  \n",
       "1         412.100000  \n",
       "2         197.100000  \n",
       "3         383.933333  \n",
       "4         293.200000  "
      ]
     },
     "execution_count": 4,
     "metadata": {},
     "output_type": "execute_result"
    }
   ],
   "source": [
    "df.head()"
   ]
  },
  {
   "cell_type": "code",
   "execution_count": 5,
   "id": "46a92183",
   "metadata": {},
   "outputs": [],
   "source": [
    "x = df.drop(['power_consumption'],axis=1)\n",
    "y = df['power_consumption']"
   ]
  },
  {
   "cell_type": "code",
   "execution_count": 6,
   "id": "5e7dfbdd",
   "metadata": {},
   "outputs": [],
   "source": [
    "from sklearn.model_selection import train_test_split"
   ]
  },
  {
   "cell_type": "code",
   "execution_count": 7,
   "id": "c03b44a8",
   "metadata": {},
   "outputs": [],
   "source": [
    "X_train,X_test,y_train,y_test = train_test_split(x,y,train_size=0.33,random_state=7)"
   ]
  },
  {
   "cell_type": "markdown",
   "id": "e1f17094",
   "metadata": {},
   "source": [
    "# Desicion tree"
   ]
  },
  {
   "cell_type": "code",
   "execution_count": 8,
   "id": "cfd079c7",
   "metadata": {},
   "outputs": [],
   "source": [
    "from sklearn import tree"
   ]
  },
  {
   "cell_type": "code",
   "execution_count": 9,
   "id": "56d0af32",
   "metadata": {},
   "outputs": [],
   "source": [
    "model = tree.DecisionTreeRegressor()"
   ]
  },
  {
   "cell_type": "code",
   "execution_count": 10,
   "id": "f3726113",
   "metadata": {},
   "outputs": [
    {
     "data": {
      "text/plain": [
       "DecisionTreeRegressor()"
      ]
     },
     "execution_count": 10,
     "metadata": {},
     "output_type": "execute_result"
    }
   ],
   "source": [
    "model.fit(X_train,y_train)"
   ]
  },
  {
   "cell_type": "code",
   "execution_count": 11,
   "id": "80cb574d",
   "metadata": {},
   "outputs": [],
   "source": [
    "y_predict_DT = model.predict(X_test)"
   ]
  },
  {
   "cell_type": "markdown",
   "id": "ab8d00ef",
   "metadata": {},
   "source": [
    "R square score"
   ]
  },
  {
   "cell_type": "code",
   "execution_count": 12,
   "id": "3e4a3425",
   "metadata": {},
   "outputs": [
    {
     "name": "stdout",
     "output_type": "stream",
     "text": [
      "0.9306390715862848\n"
     ]
    }
   ],
   "source": [
    "from sklearn.metrics import r2_score\n",
    "DT_r2 = r2_score(y_test,y_predict_DT)\n",
    "print(DT_r2)"
   ]
  },
  {
   "cell_type": "markdown",
   "id": "6f9fefcb",
   "metadata": {},
   "source": [
    "adjusted R square score"
   ]
  },
  {
   "cell_type": "code",
   "execution_count": 13,
   "id": "ba27eb4a",
   "metadata": {},
   "outputs": [
    {
     "data": {
      "text/plain": [
       "0.9303473326655121"
      ]
     },
     "execution_count": 13,
     "metadata": {},
     "output_type": "execute_result"
    }
   ],
   "source": [
    "adjusted_DT_r2 = 1 - (1-DT_r2)*(len(y_test)-1)/(len(y_test)-X_test.shape[1]-1)\n",
    "adjusted_DT_r2"
   ]
  },
  {
   "cell_type": "markdown",
   "id": "0b83d428",
   "metadata": {},
   "source": [
    "# Random forest regressor"
   ]
  },
  {
   "cell_type": "code",
   "execution_count": 14,
   "id": "094808af",
   "metadata": {},
   "outputs": [],
   "source": [
    "from sklearn.ensemble import RandomForestRegressor\n",
    "from sklearn.tree import DecisionTreeRegressor"
   ]
  },
  {
   "cell_type": "code",
   "execution_count": 15,
   "id": "bbdc99c3",
   "metadata": {},
   "outputs": [],
   "source": [
    "model = RandomForestRegressor().fit(X_train,y_train)"
   ]
  },
  {
   "cell_type": "code",
   "execution_count": 16,
   "id": "5c34c351",
   "metadata": {},
   "outputs": [],
   "source": [
    "y_predict_Rf = model.predict(X_test)"
   ]
  },
  {
   "cell_type": "markdown",
   "id": "c8f4c4b5",
   "metadata": {},
   "source": [
    "R square score"
   ]
  },
  {
   "cell_type": "code",
   "execution_count": 17,
   "id": "589b7019",
   "metadata": {},
   "outputs": [
    {
     "name": "stdout",
     "output_type": "stream",
     "text": [
      "0.9306390715862848\n"
     ]
    }
   ],
   "source": [
    "from sklearn.metrics import r2_score\n",
    "Rf_r2 = r2_score(y_test,y_predict_Rf)\n",
    "print(DT_r2)"
   ]
  },
  {
   "cell_type": "markdown",
   "id": "c7c0736f",
   "metadata": {},
   "source": [
    "adjusted R square score"
   ]
  },
  {
   "cell_type": "code",
   "execution_count": 18,
   "id": "bda8c4ee",
   "metadata": {},
   "outputs": [
    {
     "data": {
      "text/plain": [
       "0.9675104995520856"
      ]
     },
     "execution_count": 18,
     "metadata": {},
     "output_type": "execute_result"
    }
   ],
   "source": [
    "adjusted_Rf_r2 = 1 - (1-Rf_r2)*(len(y_test)-1)/(len(y_test)-X_test.shape[1]-1)\n",
    "adjusted_Rf_r2"
   ]
  },
  {
   "cell_type": "markdown",
   "id": "4ff972a0",
   "metadata": {},
   "source": [
    "Hyperparameter tunning"
   ]
  },
  {
   "cell_type": "code",
   "execution_count": 19,
   "id": "730f6601",
   "metadata": {},
   "outputs": [],
   "source": [
    "grid_param = {\n",
    "    \"n_estimators\":[90,100,115,130],\n",
    "    'criterion': ['squared_error', 'absolute_error', 'poisson'],\n",
    "    'max_depth' : range(2,20,1),\n",
    "    'min_samples_leaf' : range(1,10,1),\n",
    "    'min_samples_split': range(2,10,1),\n",
    "    'max_features':['sqrt','log2']\n",
    "}"
   ]
  },
  {
   "cell_type": "code",
   "execution_count": 20,
   "id": "3a554f7c",
   "metadata": {},
   "outputs": [],
   "source": [
    "from sklearn.model_selection import GridSearchCV\n",
    "grid_search=GridSearchCV(estimator=model,param_grid=grid_param,cv=3,verbose=2,n_jobs=-1)"
   ]
  },
  {
   "cell_type": "code",
   "execution_count": 21,
   "id": "a83345fe",
   "metadata": {},
   "outputs": [
    {
     "name": "stdout",
     "output_type": "stream",
     "text": [
      "Fitting 3 folds for each of 31104 candidates, totalling 93312 fits\n"
     ]
    },
    {
     "data": {
      "text/plain": [
       "GridSearchCV(cv=3, estimator=RandomForestRegressor(), n_jobs=-1,\n",
       "             param_grid={'criterion': ['squared_error', 'absolute_error',\n",
       "                                       'poisson'],\n",
       "                         'max_depth': range(2, 20),\n",
       "                         'max_features': ['sqrt', 'log2'],\n",
       "                         'min_samples_leaf': range(1, 10),\n",
       "                         'min_samples_split': range(2, 10),\n",
       "                         'n_estimators': [90, 100, 115, 130]},\n",
       "             verbose=2)"
      ]
     },
     "execution_count": 21,
     "metadata": {},
     "output_type": "execute_result"
    }
   ],
   "source": [
    "grid_search.fit(X_train,y_train)"
   ]
  },
  {
   "cell_type": "code",
   "execution_count": 22,
   "id": "b350b2ed",
   "metadata": {},
   "outputs": [
    {
     "data": {
      "text/plain": [
       "{'criterion': 'absolute_error',\n",
       " 'max_depth': 15,\n",
       " 'max_features': 'sqrt',\n",
       " 'min_samples_leaf': 1,\n",
       " 'min_samples_split': 3,\n",
       " 'n_estimators': 115}"
      ]
     },
     "execution_count": 22,
     "metadata": {},
     "output_type": "execute_result"
    }
   ],
   "source": [
    "grid_search.best_params_"
   ]
  },
  {
   "cell_type": "code",
   "execution_count": 23,
   "id": "566a9beb",
   "metadata": {},
   "outputs": [],
   "source": [
    "model_best_param = RandomForestRegressor(criterion='squared_error',\n",
    " max_depth= 17,\n",
    " max_features='sqrt',\n",
    " min_samples_leaf= 1,\n",
    " min_samples_split= 2,\n",
    " n_estimators= 115).fit(X_train,y_train)"
   ]
  },
  {
   "cell_type": "code",
   "execution_count": 24,
   "id": "66d46904",
   "metadata": {},
   "outputs": [],
   "source": [
    "y_predict_grid = model_best_param.predict(X_test)"
   ]
  },
  {
   "cell_type": "markdown",
   "id": "18be2e76",
   "metadata": {},
   "source": [
    "R square score"
   ]
  },
  {
   "cell_type": "code",
   "execution_count": 25,
   "id": "2da32271",
   "metadata": {},
   "outputs": [
    {
     "name": "stdout",
     "output_type": "stream",
     "text": [
      "0.9225874375782896\n"
     ]
    }
   ],
   "source": [
    "from sklearn.metrics import r2_score\n",
    "grid_r2 = r2_score(y_test,y_predict_grid)\n",
    "print(grid_r2)"
   ]
  },
  {
   "cell_type": "markdown",
   "id": "090e90df",
   "metadata": {},
   "source": [
    "adjusted R square score"
   ]
  },
  {
   "cell_type": "code",
   "execution_count": 26,
   "id": "1f0b4d11",
   "metadata": {},
   "outputs": [
    {
     "data": {
      "text/plain": [
       "0.9222618326890291"
      ]
     },
     "execution_count": 26,
     "metadata": {},
     "output_type": "execute_result"
    }
   ],
   "source": [
    "adjusted_grid_r2 = 1 - (1-grid_r2)*(len(y_test)-1)/(len(y_test)-X_test.shape[1]-1)\n",
    "adjusted_grid_r2"
   ]
  },
  {
   "cell_type": "markdown",
   "id": "22a616a0",
   "metadata": {},
   "source": [
    "# Bagging Regressor"
   ]
  },
  {
   "cell_type": "code",
   "execution_count": 27,
   "id": "beec726c",
   "metadata": {},
   "outputs": [],
   "source": [
    "from sklearn.ensemble import BaggingRegressor"
   ]
  },
  {
   "cell_type": "code",
   "execution_count": 28,
   "id": "ec6dff06",
   "metadata": {},
   "outputs": [],
   "source": [
    "model = BaggingRegressor(base_estimator=DecisionTreeRegressor(),n_estimators=50, random_state=0).fit(X_train, y_train)"
   ]
  },
  {
   "cell_type": "code",
   "execution_count": 29,
   "id": "bbf2a6d7",
   "metadata": {},
   "outputs": [
    {
     "name": "stdout",
     "output_type": "stream",
     "text": [
      "accuracy :\n",
      "0.9531401785064915\n"
     ]
    }
   ],
   "source": [
    "from sklearn.model_selection import cross_val_score\n",
    "results = cross_val_score(model, X_train, y_train, cv = 20)\n",
    "print(\"accuracy :\")\n",
    "print(results.mean())"
   ]
  },
  {
   "cell_type": "markdown",
   "id": "bff3c72d",
   "metadata": {},
   "source": [
    "R square score"
   ]
  },
  {
   "cell_type": "code",
   "execution_count": 30,
   "id": "01e68cf0",
   "metadata": {},
   "outputs": [
    {
     "name": "stdout",
     "output_type": "stream",
     "text": [
      "0.9225874375782896\n"
     ]
    }
   ],
   "source": [
    "from sklearn.metrics import r2_score\n",
    "Bagging_r2 = r2_score(y_test,y_predict_grid)\n",
    "print(Bagging_r2)"
   ]
  },
  {
   "cell_type": "markdown",
   "id": "fa5c8e06",
   "metadata": {},
   "source": [
    "adjusted R square score"
   ]
  },
  {
   "cell_type": "code",
   "execution_count": 31,
   "id": "4598cad5",
   "metadata": {},
   "outputs": [
    {
     "data": {
      "text/plain": [
       "0.9222618326890291"
      ]
     },
     "execution_count": 31,
     "metadata": {},
     "output_type": "execute_result"
    }
   ],
   "source": [
    "adjusted_Bagging_r2 = 1 - (1-Bagging_r2)*(len(y_test)-1)/(len(y_test)-X_test.shape[1]-1)\n",
    "adjusted_Bagging_r2"
   ]
  },
  {
   "cell_type": "markdown",
   "id": "9b221d73",
   "metadata": {},
   "source": [
    "# Extra tree regressor"
   ]
  },
  {
   "cell_type": "code",
   "execution_count": 32,
   "id": "8684e87f",
   "metadata": {},
   "outputs": [],
   "source": [
    "from sklearn.ensemble import ExtraTreesRegressor"
   ]
  },
  {
   "cell_type": "code",
   "execution_count": 33,
   "id": "8fd13176",
   "metadata": {},
   "outputs": [],
   "source": [
    "model = ExtraTreesRegressor(n_estimators=100,random_state=7).fit(X_train, y_train)"
   ]
  },
  {
   "cell_type": "markdown",
   "id": "3ea55418",
   "metadata": {},
   "source": [
    "R square score"
   ]
  },
  {
   "cell_type": "code",
   "execution_count": 34,
   "id": "df864be4",
   "metadata": {},
   "outputs": [
    {
     "name": "stdout",
     "output_type": "stream",
     "text": [
      "0.9225874375782896\n"
     ]
    }
   ],
   "source": [
    "from sklearn.metrics import r2_score\n",
    "extra_r2 = r2_score(y_test,y_predict_grid)\n",
    "print(extra_r2)"
   ]
  },
  {
   "cell_type": "markdown",
   "id": "00ea0796",
   "metadata": {},
   "source": [
    "adjusted R square score"
   ]
  },
  {
   "cell_type": "code",
   "execution_count": 35,
   "id": "1dacf902",
   "metadata": {},
   "outputs": [
    {
     "data": {
      "text/plain": [
       "0.9222618326890291"
      ]
     },
     "execution_count": 35,
     "metadata": {},
     "output_type": "execute_result"
    }
   ],
   "source": [
    "adjusted_extra_r2 = 1 - (1-extra_r2)*(len(y_test)-1)/(len(y_test)-X_test.shape[1]-1)\n",
    "adjusted_extra_r2"
   ]
  },
  {
   "cell_type": "markdown",
   "id": "01fec509",
   "metadata": {},
   "source": [
    "Coss validation"
   ]
  },
  {
   "cell_type": "code",
   "execution_count": 36,
   "id": "6b46bb7e",
   "metadata": {},
   "outputs": [
    {
     "name": "stdout",
     "output_type": "stream",
     "text": [
      "accuracy :\n",
      "0.9742557707013066\n"
     ]
    }
   ],
   "source": [
    "from sklearn.model_selection import cross_val_score\n",
    "results = cross_val_score(model, X_train, y_train, cv = 20)\n",
    "print(\"accuracy :\")\n",
    "print(results.mean())"
   ]
  },
  {
   "cell_type": "markdown",
   "id": "65a9d43e",
   "metadata": {},
   "source": [
    "# Voting regressor"
   ]
  },
  {
   "cell_type": "code",
   "execution_count": 37,
   "id": "0406ac61",
   "metadata": {},
   "outputs": [],
   "source": [
    "from sklearn.linear_model import LinearRegression\n",
    "from sklearn.ensemble import VotingRegressor\n",
    "from sklearn.ensemble import RandomForestRegressor\n",
    "from sklearn.svm import SVR"
   ]
  },
  {
   "cell_type": "code",
   "execution_count": 38,
   "id": "a924b400",
   "metadata": {},
   "outputs": [],
   "source": [
    "r1 = LinearRegression()\n",
    "r2 = RandomForestRegressor(n_estimators=10)\n",
    "r3 = SVR()"
   ]
  },
  {
   "cell_type": "code",
   "execution_count": 39,
   "id": "b7bab6c7",
   "metadata": {},
   "outputs": [],
   "source": [
    "model = VotingRegressor([('lr', r1), ('rf', r2), ('r3', r3)])"
   ]
  },
  {
   "cell_type": "code",
   "execution_count": 40,
   "id": "4860edf9",
   "metadata": {},
   "outputs": [
    {
     "data": {
      "text/plain": [
       "VotingRegressor(estimators=[('lr', LinearRegression()),\n",
       "                            ('rf', RandomForestRegressor(n_estimators=10)),\n",
       "                            ('r3', SVR())])"
      ]
     },
     "execution_count": 40,
     "metadata": {},
     "output_type": "execute_result"
    }
   ],
   "source": [
    "model.fit(X_train,y_train)"
   ]
  },
  {
   "cell_type": "code",
   "execution_count": 41,
   "id": "f063f7bc",
   "metadata": {},
   "outputs": [],
   "source": [
    "y_predict_voting = model.predict(X_test)"
   ]
  },
  {
   "cell_type": "markdown",
   "id": "64f5d44f",
   "metadata": {},
   "source": [
    "R square score"
   ]
  },
  {
   "cell_type": "code",
   "execution_count": 42,
   "id": "ebebfa79",
   "metadata": {},
   "outputs": [
    {
     "name": "stdout",
     "output_type": "stream",
     "text": [
      "0.8642397025764191\n"
     ]
    }
   ],
   "source": [
    "from sklearn.metrics import r2_score\n",
    "grid_r2 = r2_score(y_test,y_predict_voting)\n",
    "print(grid_r2)"
   ]
  },
  {
   "cell_type": "markdown",
   "id": "bceca5c6",
   "metadata": {},
   "source": [
    "adjusted R square score"
   ]
  },
  {
   "cell_type": "code",
   "execution_count": 43,
   "id": "d7a64d6c",
   "metadata": {},
   "outputs": [
    {
     "data": {
      "text/plain": [
       "0.8636686813464567"
      ]
     },
     "execution_count": 43,
     "metadata": {},
     "output_type": "execute_result"
    }
   ],
   "source": [
    "adjusted_grid_r2 = 1 - (1-grid_r2)*(len(y_test)-1)/(len(y_test)-X_test.shape[1]-1)\n",
    "adjusted_grid_r2"
   ]
  },
  {
   "cell_type": "code",
   "execution_count": 44,
   "id": "5dddda6e",
   "metadata": {},
   "outputs": [
    {
     "name": "stdout",
     "output_type": "stream",
     "text": [
      "accuracy :\n",
      "0.8593070849716739\n"
     ]
    }
   ],
   "source": [
    "from sklearn.model_selection import cross_val_score\n",
    "results = cross_val_score(model, X_train, y_train, cv = 20)\n",
    "print(\"accuracy :\")\n",
    "print(results.mean())"
   ]
  }
 ],
 "metadata": {
  "kernelspec": {
   "display_name": "Python 3 (ipykernel)",
   "language": "python",
   "name": "python3"
  },
  "language_info": {
   "codemirror_mode": {
    "name": "ipython",
    "version": 3
   },
   "file_extension": ".py",
   "mimetype": "text/x-python",
   "name": "python",
   "nbconvert_exporter": "python",
   "pygments_lexer": "ipython3",
   "version": "3.9.12"
  }
 },
 "nbformat": 4,
 "nbformat_minor": 5
}
